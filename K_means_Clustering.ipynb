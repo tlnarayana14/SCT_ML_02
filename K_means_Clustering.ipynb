{
  "nbformat": 4,
  "nbformat_minor": 0,
  "metadata": {
    "colab": {
      "provenance": []
    },
    "kernelspec": {
      "name": "python3",
      "display_name": "Python 3"
    },
    "language_info": {
      "name": "python"
    }
  },
  "cells": [
    {
      "cell_type": "markdown",
      "source": [
        "# ***1.Import Required Libraries***"
      ],
      "metadata": {
        "id": "Mirau83i7hgS"
      }
    },
    {
      "cell_type": "code",
      "source": [
        "import numpy as np\n",
        "import pandas as pd\n",
        "import matplotlib.pyplot as plt\n",
        "from sklearn.cluster import KMeans\n",
        "from sklearn.preprocessing import StandardScaler\n",
        "from sklearn.metrics import silhouette_score, davies_bouldin_score"
      ],
      "metadata": {
        "id": "Z-R2PvU57ll_"
      },
      "execution_count": 77,
      "outputs": []
    },
    {
      "cell_type": "markdown",
      "source": [
        "# ***2.Load the Dataset and select the features for clustering***"
      ],
      "metadata": {
        "id": "tyuM0_L67orC"
      }
    },
    {
      "cell_type": "code",
      "source": [
        "df = pd.read_csv('student_marks.csv')\n",
        "marks = df[['Subject1', 'Subject2']].values"
      ],
      "metadata": {
        "id": "js6WNYLI7tv0"
      },
      "execution_count": 78,
      "outputs": []
    },
    {
      "cell_type": "markdown",
      "source": [
        "# ***3.Standardize the Data***"
      ],
      "metadata": {
        "id": "v1VKqzN-8NaM"
      }
    },
    {
      "cell_type": "code",
      "source": [
        "scaler = StandardScaler()\n",
        "marks_scaled = scaler.fit_transform(marks)"
      ],
      "metadata": {
        "id": "n2TNncEk8SR9"
      },
      "execution_count": 79,
      "outputs": []
    },
    {
      "cell_type": "markdown",
      "source": [
        "# ***4.Apply K-Means Clustering***"
      ],
      "metadata": {
        "id": "WNODqQ3z8VR9"
      }
    },
    {
      "cell_type": "code",
      "source": [
        "k = 2\n",
        "kmeans = KMeans(n_clusters=k, random_state=42, n_init=10)\n",
        "df['Cluster'] = kmeans.fit_predict(marks_scaled)"
      ],
      "metadata": {
        "id": "RI-xgOE98ao8"
      },
      "execution_count": 80,
      "outputs": []
    },
    {
      "cell_type": "markdown",
      "source": [
        "# ***5.Extract Cluster Centroids and Map Cluster Numbers to Labels***"
      ],
      "metadata": {
        "id": "v4oFnUL98fA7"
      }
    },
    {
      "cell_type": "code",
      "source": [
        "centroids = kmeans.cluster_centers_\n",
        "cluster_names = {0: 'High Performers', 1: 'Low Performers'}  # You can adjust labels as needed\n",
        "df['Cluster Name'] = df['Cluster'].map(cluster_names)"
      ],
      "metadata": {
        "id": "8bHxoWIl8ouO"
      },
      "execution_count": 81,
      "outputs": []
    },
    {
      "cell_type": "markdown",
      "source": [
        "# ***6.Save Clustered Data to CSV***"
      ],
      "metadata": {
        "id": "lT8UZVtV81ZU"
      }
    },
    {
      "cell_type": "code",
      "source": [
        "df.to_csv('student_marks_clustered.csv', index=False)"
      ],
      "metadata": {
        "id": "WkKD5o3C89cR"
      },
      "execution_count": 82,
      "outputs": []
    },
    {
      "cell_type": "markdown",
      "source": [
        "# ***7.Evaluate Clustering Performance***"
      ],
      "metadata": {
        "id": "1Qy6xt6s9Aep"
      }
    },
    {
      "cell_type": "code",
      "source": [
        "inertia = kmeans.inertia_\n",
        "silhouette_avg = silhouette_score(marks_scaled, df['Cluster'])\n",
        "db_index = davies_bouldin_score(marks_scaled, df['Cluster'])\n",
        "print(f\"Inertia (SSE): {inertia:.2f}\")\n",
        "print(f\"Silhouette Score: {silhouette_avg:.2f}\")\n",
        "print(f\"Davies-Bouldin Index: {db_index:.2f}\")"
      ],
      "metadata": {
        "colab": {
          "base_uri": "https://localhost:8080/"
        },
        "id": "9OTaxmnU9FJF",
        "outputId": "75ad8a0b-2db8-4790-db12-be1d00ea927e"
      },
      "execution_count": 83,
      "outputs": [
        {
          "output_type": "stream",
          "name": "stdout",
          "text": [
            "Inertia (SSE): 1.29\n",
            "Silhouette Score: 0.71\n",
            "Davies-Bouldin Index: 0.33\n"
          ]
        }
      ]
    },
    {
      "cell_type": "markdown",
      "source": [
        "# ***8.Cluster wise summary statistics***"
      ],
      "metadata": {
        "id": "YCYoti8d9Z-G"
      }
    },
    {
      "cell_type": "code",
      "source": [
        "print(\"\\nCluster Information:\")\n",
        "print(df.groupby('Cluster Name')[['Subject1', 'Subject2']].mean())"
      ],
      "metadata": {
        "colab": {
          "base_uri": "https://localhost:8080/"
        },
        "id": "mYdlfFFx9jLv",
        "outputId": "47c02eb8-cfe6-4364-d6eb-ecd10dea27c1"
      },
      "execution_count": 84,
      "outputs": [
        {
          "output_type": "stream",
          "name": "stdout",
          "text": [
            "\n",
            "Cluster Information:\n",
            "                  Subject1   Subject2\n",
            "Cluster Name                         \n",
            "High Performers  83.333333  83.666667\n",
            "Low Performers   59.000000  54.000000\n"
          ]
        }
      ]
    },
    {
      "cell_type": "markdown",
      "source": [
        "# ***9.Visualize the Clusters***"
      ],
      "metadata": {
        "id": "x87BDqj99mf-"
      }
    },
    {
      "cell_type": "code",
      "source": [
        "plt.figure(figsize=(8, 6))\n",
        "plt.scatter(marks_scaled[:, 0], marks_scaled[:, 1], c=df['Cluster'], cmap='Set1', marker='H', edgecolors='face', label='Students')\n",
        "plt.scatter(centroids[:, 0], centroids[:, 1], s=200, c='blue', marker='*', label='Centroids')\n",
        "plt.xlabel('Subject 1 (Scaled)')\n",
        "plt.ylabel('Subject 2 (Scaled)')\n",
        "plt.title('K-Means Clustering of Student Marks')\n",
        "plt.legend()\n",
        "plt.show()"
      ],
      "metadata": {
        "colab": {
          "base_uri": "https://localhost:8080/",
          "height": 564
        },
        "id": "Nwj5jCE79rHY",
        "outputId": "4f5f5fdd-3cd4-45a1-98e4-63e408e68400"
      },
      "execution_count": 85,
      "outputs": [
        {
          "output_type": "display_data",
          "data": {
            "text/plain": [
              "<Figure size 800x600 with 1 Axes>"
            ],
            "image/png": "[encoded data removed]"
          },
          "metadata": {}
        }
      ]
    }
  ]
}